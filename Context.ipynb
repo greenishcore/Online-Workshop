{
 "cells": [
  {
   "cell_type": "markdown",
   "metadata": {},
   "source": [
    "# PASCAL Context - Light-Weight Refinenet\n",
    "\n",
    "## 59 semantic classes + background\n",
    "\n",
    "### Light-Weight RefineNet based on ResNet-101/152"
   ]
  },
  {
   "cell_type": "code",
   "execution_count": 1,
   "metadata": {},
   "outputs": [],
   "source": [
    "import six\n",
    "import sys\n",
    "sys.path.append('../../')\n",
    "\n",
    "from models.resnet import rf_lw101, rf_lw152"
   ]
  },
  {
   "cell_type": "code",
   "execution_count": 2,
   "metadata": {},
   "outputs": [],
   "source": [
    "from utils.helpers import prepare_img"
   ]
  },
  {
   "cell_type": "code",
   "execution_count": 3,
   "metadata": {},
   "outputs": [],
   "source": [
    "%matplotlib inline\n",
    "\n",
    "import glob\n",
    "\n",
    "import cv2\n",
    "import matplotlib.pyplot as plt\n",
    "import numpy as np\n",
    "import torch\n",
    "\n",
    "from PIL import Image"
   ]
  },
  {
   "cell_type": "code",
   "execution_count": 4,
   "metadata": {},
   "outputs": [],
   "source": [
    "cmap = np.load('../../utils/cmap.npy')\n",
    "has_cuda = torch.cuda.is_available()\n",
    "img_dir = '../imgs/GT/'\n",
    "imgs = glob.glob('{}*.jpg'.format(img_dir))\n",
    "n_classes = 60"
   ]
  },
  {
   "cell_type": "code",
   "execution_count": 5,
   "metadata": {},
   "outputs": [],
   "source": [
    "# Initialise models\n",
    "#model_inits = { \n",
    "#    'rf_lw101_context'   : rf_lw101, # key / constructor\n",
    "#    'rf_lw152_context'   : rf_lw152,\n",
    "#    }\n",
    "\n",
    "model_inits = { \n",
    "    'rf_lw152_context'   : rf_lw152,\n",
    "    }\n",
    "\n",
    "models = dict()\n",
    "for key,fun in six.iteritems(model_inits):\n",
    "    net = fun(n_classes, pretrained=True).eval()\n",
    "    if has_cuda:\n",
    "        net = net.cuda()\n",
    "    models[key] = net"
   ]
  },
  {
   "cell_type": "code",
   "execution_count": 20,
   "metadata": {},
   "outputs": [
    {
     "name": "stdout",
     "output_type": "stream",
     "text": [
      "17_87_P:28.422_S:0.859.jpg\n",
      "rain_87_P:19.499_S:0.662.jpg\n",
      "GT_87.jpg\n",
      "18_87_P:29.24_S:0.884.jpg\n",
      "me_87_p：31.2933_s：0.9241.jpg\n",
      "19_87_P:24.406_S:0.868.jpg\n"
     ]
    },
    {
     "data": {
      "text/plain": [
       "<Figure size 1152x864 with 0 Axes>"
      ]
     },
     "metadata": {},
     "output_type": "display_data"
    }
   ],
   "source": [
    "# Figure 1 from the supplementary\n",
    "\n",
    "def is_image_file(filename):\n",
    "    filename_lower = filename.lower()\n",
    "    return any(filename_lower.endswith(extension) for extension in ['.png', '.jpg', '.bmp', '.mat'])\n",
    "\n",
    "\n",
    "import os\n",
    "\n",
    "img_dir = '../imgs/ss/'\n",
    "img_names = [x for x in os.listdir(img_dir) if is_image_file(x)]\n",
    "img_paths = [os.path.join(img_dir, x) for x in img_names]\n",
    "n_cols = len(img_names)  # from rain-17-18-19-me-clear\n",
    "n_rows = 1\n",
    "\n",
    "plt.figure(figsize=(16, 12))\n",
    "idx = 1\n",
    "n = 0\n",
    "# with torch.no_grad():\n",
    "#     for img_path in img_paths:\n",
    "#         n += 1\n",
    "#         img = np.array(Image.open(img_path))\n",
    "#         # msk = np.array(Image.open(img_path.replace('jpg', 'png')))\n",
    "#         orig_size = img.shape[:2][::-1]\n",
    "#\n",
    "#         img_inp = torch.tensor(prepare_img(img).transpose(2, 0, 1)[None]).float()\n",
    "#         if has_cuda:\n",
    "#             img_inp = img_inp.cuda()\n",
    "#\n",
    "#         plt.subplot(n_rows, n_cols, idx)\n",
    "#         plt.imshow(img)\n",
    "#         plt.title('img')\n",
    "#         plt.axis('off')\n",
    "#         idx += 1\n",
    "#\n",
    "#         # plt.subplot(n_rows, n_cols, idx)\n",
    "#         # plt.imshow(msk)\n",
    "#         # plt.title('gt')\n",
    "#         # plt.axis('off')\n",
    "#         # idx += 1\n",
    "#\n",
    "#         for mname, mnet in six.iteritems(models):\n",
    "#             segm = mnet(img_inp)[0].data.cpu().numpy().transpose(1, 2, 0)\n",
    "#             segm = cv2.resize(segm, orig_size, interpolation=cv2.INTER_CUBIC)\n",
    "#             segm = cmap[segm.argmax(axis=2).astype(np.uint8)]\n",
    "#\n",
    "#             plt.subplot(n_rows, n_cols, idx)\n",
    "#             plt.imshow(segm)\n",
    "#\n",
    "#             plt.title(mname)\n",
    "#             plt.axis('off')\n",
    "#             # idx += 1\n",
    "#\n",
    "#         #######add by pl############\n",
    "#         fig = plt.gcf()\n",
    "#         plt.savefig('/home/ws/Desktop/XY/lw-refinenet/examples/temp/%d.jpg' % n)\n",
    "        ##########end\n",
    "######save image done by pl #####\n",
    "save_root =  '../temp/'\n",
    "with torch.no_grad():\n",
    "    for img_name in img_names:\n",
    "        print(img_name)\n",
    "        img_path = os.path.join(img_dir, img_name)\n",
    "        n += 1\n",
    "        img = np.array(Image.open(img_path))\n",
    "        # msk = np.array(Image.open(img_path.replace('jpg', 'png')))\n",
    "        orig_size = img.shape[:2][::-1]\n",
    "\n",
    "        img_inp = torch.tensor(prepare_img(img).transpose(2, 0, 1)[None]).float()\n",
    "        if has_cuda:\n",
    "            img_inp = img_inp.cuda()\n",
    "\n",
    "        mname, mnet in six.iteritems(models)\n",
    "        segm = mnet(img_inp)[0].data.cpu().numpy().transpose(1, 2, 0)\n",
    "        segm = cv2.resize(segm, orig_size, interpolation=cv2.INTER_CUBIC)\n",
    "        segm = cmap[segm.argmax(axis=2).astype(np.uint8)]\n",
    "        #print(type(segm))\n",
    "        segm = segm[:,:,::-1]#rgb->bgr\n",
    "        cv2.imwrite(os.path.join(save_root , img_name) , segm)"
   ]
  },
  {
   "cell_type": "code",
   "execution_count": null,
   "metadata": {},
   "outputs": [],
   "source": []
  },
  {
   "cell_type": "code",
   "execution_count": null,
   "metadata": {},
   "outputs": [],
   "source": []
  },
  {
   "cell_type": "code",
   "execution_count": null,
   "metadata": {},
   "outputs": [],
   "source": []
  }
 ],
 "metadata": {
  "kernelspec": {
   "display_name": "Python 3",
   "language": "python",
   "name": "python3"
  },
  "language_info": {
   "codemirror_mode": {
    "name": "ipython",
    "version": 3
   },
   "file_extension": ".py",
   "mimetype": "text/x-python",
   "name": "python",
   "nbconvert_exporter": "python",
   "pygments_lexer": "ipython3",
   "version": "3.7.4"
  }
 },
 "nbformat": 4,
 "nbformat_minor": 2
}
